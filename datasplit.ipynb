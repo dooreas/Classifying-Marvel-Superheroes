{
 "cells": [
  {
   "cell_type": "code",
   "execution_count": 1,
   "metadata": {},
   "outputs": [],
   "source": [
    "import sys\n",
    "sys.path.append('/Users/jamo/IVision/IVision_Coursework')"
   ]
  },
  {
   "cell_type": "code",
   "execution_count": 2,
   "metadata": {},
   "outputs": [
    {
     "name": "stderr",
     "output_type": "stream",
     "text": [
      "Copying files: 400 files [00:00, 1419.76 files/s]\n"
     ]
    }
   ],
   "source": [
    "import splitfolders #Generic use of splitfolders to seperate our original 'train' data into 'valid' and 'train' data.\n",
    "\n",
    "input_folder = './marvel_aug/'\n",
    "\n",
    "splitfolders.ratio(input_folder, output = \"Data_Split\",\n",
    "                    seed=42, ratio=(.8, .2),\n",
    "                    group_prefix=None)"
   ]
  }
 ],
 "metadata": {
  "kernelspec": {
   "display_name": "Python 3.6.13 ('env_pytorch')",
   "language": "python",
   "name": "python3"
  },
  "language_info": {
   "codemirror_mode": {
    "name": "ipython",
    "version": 3
   },
   "file_extension": ".py",
   "mimetype": "text/x-python",
   "name": "python",
   "nbconvert_exporter": "python",
   "pygments_lexer": "ipython3",
   "version": "3.6.13"
  },
  "orig_nbformat": 4,
  "vscode": {
   "interpreter": {
    "hash": "aaf34b26866c2490bfe22ef305675bb9ec48eae0d2267b2f491e43cf73426386"
   }
  }
 },
 "nbformat": 4,
 "nbformat_minor": 2
}
