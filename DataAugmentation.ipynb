{
 "cells": [
  {
   "cell_type": "code",
   "execution_count": 2,
   "metadata": {},
   "outputs": [
    {
     "name": "stderr",
     "output_type": "stream",
     "text": [
      "Using TensorFlow backend.\n"
     ]
    }
   ],
   "source": [
    "from keras.preprocessing.image import ImageDataGenerator\n",
    "from matplotlib import pyplot\n",
    "import matplotlib.image as mpimg\n",
    "import numpy as np\n"
   ]
  },
  {
   "cell_type": "code",
   "execution_count": 37,
   "metadata": {},
   "outputs": [],
   "source": [
    "from keras.preprocessing.image import ImageDataGenerator #Data Generator for data augmentation from Keras.\n",
    "from skimage import io\n",
    "datagen_rot = ImageDataGenerator(        \n",
    "        rotation_range = 40) #Will perform rotations for images below\n",
    "datagen_flip = ImageDataGenerator(\n",
    "        horizontal_flip = True, #Will perform flips (vertical or horizontal)\n",
    "        vertical_flip = True)\n",
    "datagen_zoom = ImageDataGenerator(\n",
    "        zoom_range= 0.2) #Specified zoom range for data augmentation\n",
    "datagen_wshift = ImageDataGenerator(\n",
    "        width_shift_range=0.2) #Specified shift range for data augmentation (left or right movement)\n",
    "datagen_hshift = ImageDataGenerator(\n",
    "        height_shift_range=0.2) #Specified shift range for data augmentation (up or down)\n",
    "import numpy as np\n",
    "import os\n",
    "from PIL import Image\n",
    "image_directory = r'./marvel/train_original/thanos/' #/train/black widow/\n",
    "SIZE = 224\n",
    "dataset = []\n",
    "my_images = os.listdir(image_directory)\n",
    "\n",
    "for i, image_name in enumerate(my_images):    \n",
    "    if (image_name.split('.')[1] == 'jpg'):        \n",
    "        image = io.imread(image_directory + image_name)        \n",
    "        image = Image.fromarray(image, 'RGB')        \n",
    "        image = image.resize((SIZE,SIZE)) #Resize all of the images so they are all 224,224 in size.\n",
    "        dataset.append(np.array(image))\n",
    "x = np.array(dataset)\n",
    "i = 0\n",
    "for batch in datagen_rot.flow(x, batch_size=1,\n",
    "                          save_to_dir= r'./marvel/new_data/',\n",
    "                          save_prefix='th',\n",
    "                          save_format='jpg'):    \n",
    "    i += 1    \n",
    "    if i > 200:        \n",
    "        break\n",
    "i=0\n",
    "for batch in datagen_flip.flow(x, batch_size=1,\n",
    "                          save_to_dir= r'./marvel/new_data/',\n",
    "                          save_prefix='th',\n",
    "                          save_format='jpg'):    \n",
    "    i += 1    \n",
    "    if i > 200:        \n",
    "        break\n",
    "i=0\n",
    "for batch in datagen_zoom.flow(x, batch_size=1,\n",
    "                          save_to_dir= r'./marvel/new_data/',\n",
    "                          save_prefix='th',\n",
    "                          save_format='jpg'):    \n",
    "    i += 1    \n",
    "    if i > 200:        \n",
    "        break\n",
    "i=0\n",
    "for batch in datagen_wshift.flow(x, batch_size=1,\n",
    "                          save_to_dir= r'./marvel/new_data/',\n",
    "                          save_prefix='th',\n",
    "                          save_format='jpg'):    \n",
    "    i += 1    \n",
    "    if i > 200:        \n",
    "        break\n",
    "i=0\n",
    "for batch in datagen_hshift.flow(x, batch_size=1,\n",
    "                          save_to_dir= r'./marvel/new_data/',\n",
    "                          save_prefix='th',\n",
    "                          save_format='jpg'):    \n",
    "    i += 1    \n",
    "    if i > 200:        \n",
    "        break"
   ]
  }
 ],
 "metadata": {
  "kernelspec": {
   "display_name": "Python 3.6.13 ('env_pytorch')",
   "language": "python",
   "name": "python3"
  },
  "language_info": {
   "codemirror_mode": {
    "name": "ipython",
    "version": 3
   },
   "file_extension": ".py",
   "mimetype": "text/x-python",
   "name": "python",
   "nbconvert_exporter": "python",
   "pygments_lexer": "ipython3",
   "version": "3.6.13"
  },
  "orig_nbformat": 4,
  "vscode": {
   "interpreter": {
    "hash": "aaf34b26866c2490bfe22ef305675bb9ec48eae0d2267b2f491e43cf73426386"
   }
  }
 },
 "nbformat": 4,
 "nbformat_minor": 2
}
